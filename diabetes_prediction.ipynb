{
  "nbformat": 4,
  "nbformat_minor": 0,
  "metadata": {
    "colab": {
      "provenance": [],
      "mount_file_id": "1z7VWJXrh2rrX0Seqzo_nbtVrtxNhvzCE",
      "authorship_tag": "ABX9TyPwk2y9mRupkrTYy7f79eVE",
      "include_colab_link": true
    },
    "kernelspec": {
      "name": "python3",
      "display_name": "Python 3"
    },
    "language_info": {
      "name": "python"
    }
  },
  "cells": [
    {
      "cell_type": "markdown",
      "metadata": {
        "id": "view-in-github",
        "colab_type": "text"
      },
      "source": [
        "<a href=\"https://colab.research.google.com/github/ZEELJARIWALA/Machine-Learning-Basics-and-Data-Preprocessing/blob/main/diabetes_prediction.ipynb\" target=\"_parent\"><img src=\"https://colab.research.google.com/assets/colab-badge.svg\" alt=\"Open In Colab\"/></a>"
      ]
    },
    {
      "cell_type": "code",
      "execution_count": 3,
      "metadata": {
        "colab": {
          "base_uri": "https://localhost:8080/"
        },
        "id": "K3ApBg6HLC-n",
        "outputId": "2fe363f7-3f80-484d-f295-067165ad947c"
      },
      "outputs": [
        {
          "output_type": "stream",
          "name": "stdout",
          "text": [
            "Drive already mounted at /content/drive; to attempt to forcibly remount, call drive.mount(\"/content/drive\", force_remount=True).\n"
          ]
        }
      ],
      "source": [
        "from google.colab import drive\n",
        "drive.mount('/content/drive')"
      ]
    },
    {
      "cell_type": "markdown",
      "source": [
        "## DIABETES PREDICTION USING Machine Learning"
      ],
      "metadata": {
        "id": "Lu4arqWKLqlw"
      }
    },
    {
      "cell_type": "markdown",
      "source": [
        "INPUT DEPENDANCY"
      ],
      "metadata": {
        "id": "l9WTvb1jL45X"
      }
    },
    {
      "cell_type": "code",
      "source": [
        "import numpy as np\n",
        "import pandas as pd\n",
        "from sklearn.model_selection import train_test_split\n",
        "from sklearn import svm\n",
        "from sklearn.preprocessing import StandardScaler\n",
        "from sklearn.metrics import accuracy_score"
      ],
      "metadata": {
        "id": "W91GODLfLhz2"
      },
      "execution_count": 4,
      "outputs": []
    },
    {
      "cell_type": "code",
      "source": [
        "#use pandas let's read csv file which are from kaggle\n",
        "diabetes_data = pd.read_csv('/content/drive/MyDrive/datasets-20241221T094513Z-001/datasets/diabetes.csv')"
      ],
      "metadata": {
        "id": "1fQjE2daMeCt"
      },
      "execution_count": null,
      "outputs": []
    },
    {
      "cell_type": "code",
      "source": [
        "diabetes_data.head()"
      ],
      "metadata": {
        "id": "geyqsLgeNERR"
      },
      "execution_count": null,
      "outputs": []
    },
    {
      "cell_type": "code",
      "source": [
        "diabetes_data.shape"
      ],
      "metadata": {
        "id": "SkP08LfrQ3DY"
      },
      "execution_count": null,
      "outputs": []
    },
    {
      "cell_type": "code",
      "source": [
        "diabetes_data.describe()"
      ],
      "metadata": {
        "id": "j2hGi6rmNICE"
      },
      "execution_count": null,
      "outputs": []
    },
    {
      "cell_type": "code",
      "source": [
        "diabetes_data['Outcome'].value_counts()"
      ],
      "metadata": {
        "id": "yvnK4CZtNPrJ"
      },
      "execution_count": null,
      "outputs": []
    },
    {
      "cell_type": "markdown",
      "source": [
        "\n",
        "\n",
        "*  0 --> non-diabetes person\n",
        "*  1 --> diabetes person\n",
        "\n"
      ],
      "metadata": {
        "id": "PuQyjCxGNfIn"
      }
    },
    {
      "cell_type": "code",
      "source": [
        "diabetes_data.groupby(['Outcome']).mean()"
      ],
      "metadata": {
        "id": "M3-dORemNdvN"
      },
      "execution_count": null,
      "outputs": []
    },
    {
      "cell_type": "markdown",
      "source": [
        "here we find basic diffence b/w diabetes person and non-diabetes person..like here we so mager diffence in Glucose and insulin colums."
      ],
      "metadata": {
        "id": "8k6re21KOFcq"
      }
    },
    {
      "cell_type": "code",
      "source": [
        "x = diabetes_data.drop(labels='Outcome', axis=1)\n",
        "y = diabetes_data['Outcome']"
      ],
      "metadata": {
        "id": "dzNBc0H-N_hv"
      },
      "execution_count": null,
      "outputs": []
    },
    {
      "cell_type": "code",
      "source": [
        "print(x)"
      ],
      "metadata": {
        "id": "pG13VCAjPBZx"
      },
      "execution_count": null,
      "outputs": []
    },
    {
      "cell_type": "code",
      "source": [
        "print(y)"
      ],
      "metadata": {
        "id": "RE6UKeUPPCxN"
      },
      "execution_count": null,
      "outputs": []
    },
    {
      "cell_type": "code",
      "source": [
        "#here in x all values are not in same range so we should standarize the data before we feed data to our machine learning algorithams\n",
        "scaler = StandardScaler()"
      ],
      "metadata": {
        "id": "Y57durymPEoB"
      },
      "execution_count": null,
      "outputs": []
    },
    {
      "cell_type": "code",
      "source": [
        "scaler.fit(x)"
      ],
      "metadata": {
        "id": "qmN1xyTLPiH1"
      },
      "execution_count": null,
      "outputs": []
    },
    {
      "cell_type": "code",
      "source": [
        "diabetes_std_data = scaler.transform(x)"
      ],
      "metadata": {
        "id": "gLkU8CEuPrtk"
      },
      "execution_count": null,
      "outputs": []
    },
    {
      "cell_type": "code",
      "source": [
        "print(diabetes_std_data)"
      ],
      "metadata": {
        "id": "bUXnIy0kPzPu"
      },
      "execution_count": null,
      "outputs": []
    },
    {
      "cell_type": "markdown",
      "source": [
        "so here we convert our data in one same range"
      ],
      "metadata": {
        "id": "4_CN94gfP7Or"
      }
    },
    {
      "cell_type": "code",
      "source": [
        "x = diabetes_std_data\n",
        "y = diabetes_data[\"Outcome\"]"
      ],
      "metadata": {
        "id": "NC_SuBn8YWdy"
      },
      "execution_count": null,
      "outputs": []
    },
    {
      "cell_type": "code",
      "source": [
        "#before feed data we should train and test our data using train_test_split\n",
        "x_train , x_test , y_train , y_test = train_test_split(x , y , test_size = 0.2 , stratify=y , random_state= 2)"
      ],
      "metadata": {
        "id": "hC76iWbfP5jT"
      },
      "execution_count": null,
      "outputs": []
    },
    {
      "cell_type": "markdown",
      "source": [
        "here 20%of data splited in test area"
      ],
      "metadata": {
        "id": "HLyd3SRDRNAW"
      }
    },
    {
      "cell_type": "code",
      "source": [
        "print( x.shape , x_train.shape , x_test.shape )"
      ],
      "metadata": {
        "id": "BrZLRNILQx0G"
      },
      "execution_count": null,
      "outputs": []
    },
    {
      "cell_type": "code",
      "source": [
        "#now its time to feed data to our support_vector_machine_learning model\n",
        "classifier = svm.SVC(kernel='linear')"
      ],
      "metadata": {
        "id": "xDuEwUY2RK6p"
      },
      "execution_count": null,
      "outputs": []
    },
    {
      "cell_type": "code",
      "source": [
        "#training support vector classifier\n",
        "classifier.fit(x_train,y_train)"
      ],
      "metadata": {
        "id": "X7IwxD9hRmA9"
      },
      "execution_count": null,
      "outputs": []
    },
    {
      "cell_type": "markdown",
      "source": [
        "MOdel evalution"
      ],
      "metadata": {
        "id": "ltBGZ0AQSV2T"
      }
    },
    {
      "cell_type": "markdown",
      "source": [
        "accuracy score"
      ],
      "metadata": {
        "id": "0IoO4ZVHSaet"
      }
    },
    {
      "cell_type": "code",
      "source": [
        "x_train_predict = classifier.predict(x_train)\n",
        "x_training_accuracy = accuracy_score(x_train_predict , y_train)"
      ],
      "metadata": {
        "id": "oLGOBRrySQXP"
      },
      "execution_count": null,
      "outputs": []
    },
    {
      "cell_type": "code",
      "source": [
        "print(x_training_accuracy)"
      ],
      "metadata": {
        "id": "z8Enm3P_S04C"
      },
      "execution_count": null,
      "outputs": []
    },
    {
      "cell_type": "markdown",
      "source": [
        "give us accuracy score for training data is 78%"
      ],
      "metadata": {
        "id": "qnPVekemS6lK"
      }
    },
    {
      "cell_type": "code",
      "source": [
        "x_test_predict = classifier.predict(x_test)\n",
        "x_testing_accuracy = accuracy_score(x_test_predict , y_test)"
      ],
      "metadata": {
        "id": "YSFujekvS5Yo"
      },
      "execution_count": null,
      "outputs": []
    },
    {
      "cell_type": "code",
      "source": [
        "print(x_testing_accuracy)"
      ],
      "metadata": {
        "id": "tiquK0vdTOYO"
      },
      "execution_count": null,
      "outputs": []
    },
    {
      "cell_type": "markdown",
      "source": [
        "give us accuracy score for testing data is 77%\n",
        "\n"
      ],
      "metadata": {
        "id": "7Sa3cgwyTTH3"
      }
    },
    {
      "cell_type": "markdown",
      "source": [
        "**predictive system**"
      ],
      "metadata": {
        "id": "hUYC2A3fTl25"
      }
    },
    {
      "cell_type": "code",
      "source": [
        "input_data = (9,171,110,24,240,45.4,0.721,54)\n",
        "\n",
        "# input data should be in array form\n",
        "\n",
        "input_data_as_array = np.asarray(input_data)\n",
        "\n",
        "#reshape data\n",
        "\n",
        "input_data_reshape = input_data_as_array.reshape(1,-1) # Reshape to a single row with all features\n",
        "\n",
        "#standarize input data\n",
        "std_data = scaler.transform(input_data_reshape)\n",
        "\n",
        "\n",
        "prediction = classifier.predict(std_data)\n",
        "print(prediction)\n",
        "\n",
        "if (prediction[0] == 0):\n",
        "  print(\"person is non-diabets..\")\n",
        "else:\n",
        "  print(\"person is diabets..\")"
      ],
      "metadata": {
        "id": "V6SrLKroTaCM"
      },
      "execution_count": null,
      "outputs": []
    },
    {
      "cell_type": "code",
      "source": [],
      "metadata": {
        "id": "QDx9upJaU1pS"
      },
      "execution_count": null,
      "outputs": []
    }
  ]
}